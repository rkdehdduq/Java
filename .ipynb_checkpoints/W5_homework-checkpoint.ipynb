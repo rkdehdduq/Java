{
 "cells": [
  {
   "cell_type": "code",
   "execution_count": 1,
   "id": "43df8f59-8cc3-440d-b5b9-b41ed09fda2f",
   "metadata": {},
   "outputs": [
    {
     "data": {
      "text/plain": [
       "'C:\\\\Users\\\\rkdehdduq12\\\\Code'"
      ]
     },
     "execution_count": 1,
     "metadata": {},
     "output_type": "execute_result"
    }
   ],
   "source": [
    "import os \n",
    "os.getcwd()"
   ]
  },
  {
   "cell_type": "code",
   "execution_count": 10,
   "id": "b0bc873b-53ee-4d78-9fb8-a9a327111013",
   "metadata": {},
   "outputs": [
    {
     "name": "stdout",
     "output_type": "stream",
     "text": [
      "Writing src/FahrenheitAreaTest.java\n"
     ]
    }
   ],
   "source": [
    "%%writefile src/FahrenheitAreaTest.java\n",
    "class FahrenheitArea {\n",
    "    float fahrenheit;\n",
    "    String area;\n",
    "\n",
    "\n",
    "    FahrenheitArea(float fahrenheit, String area) { \n",
    "        this.fahrenheit = fahrenheit; \n",
    "        this.area = area;\n",
    "    }\n",
    "\n",
    "    float convertToCelsius() {\n",
    "        return ((float)5 / 9) * (fahrenheit - 32);\n",
    "    }\n",
    "\n",
    "    String wearClothes() { \n",
    "        float celsius = convertToCelsius();\n",
    "        String clothesRecommendation = \"\"; \n",
    "        if(celsius >= 28) {clothesRecommendation = \"민소매, 반팔 티셔츠, 반바지(핫팬츠), 민소매 원피스, 짧은 치마, 린넨\"; }  \n",
    "        else if(celsius >= 23 && celsius <= 27) { clothesRecommendation = \"반팔 티셔츠, 얇은 셔츠, 얇은 긴팔 티셔츠, 반바지, 면바지\";}\n",
    "        else if(celsius >= 20 && celsius <= 22) { clothesRecommendation = \"얇은 가디건, 긴팔 티셔츠, 셔츠, 블라우스, 후드티, 면바지, 슬랙스, 7부 바지, 청바지\";}\n",
    "        else if(celsius >= 17 && celsius <= 19) { clothesRecommendation = \"얇은 니트, 얇은 가디건, 얇은 재킷, 후드티, 스웨트 셔츠(맨투맨), 바람막이, 가디건, 긴바지, 청바지, 슬랙스, 스키니진\";}\n",
    "        else if(celsius >= 12 && celsius <= 16) { clothesRecommendation = \"재킷, 가디건, 청재킷, 야상, 니트, 스웨트 셔츠(맨투맨), 셔츠, 기모 후드티, 청바지, 면바지, 살구색 스타킹\";}\n",
    "        else if(celsius >= 9 && celsius <= 11) { clothesRecommendation = \"재킷, 야상, 점퍼, 트렌치 코트, 니트, 청바지, 면바지, 검은색 스타킹, 기모 바지, 레이어드\";}\n",
    "        else if(celsius >= 5 && celsius <= 8) { clothesRecommendation = \"코트, 울 코트, 가죽 재킷, 플리스, 내복, 니트, 레깅스, 청바지, 두꺼운 바지, 스카프, 기모\";}\n",
    "        else { clothesRecommendation = \"패딩, 두꺼운 코트, 누빔, 내복, 목도리, 장갑, 기모, 방한용품\";}\n",
    "    \n",
    "        return clothesRecommendation;\n",
    "    }\n",
    "}\n",
    "\n",
    "public class FahrenheitAreaTest { \n",
    "    public static void main(String args[]){ \n",
    "        FahrenheitArea FA = new FahrenheitArea(43.2f, \"Seoul\");\n",
    "        float celsius = FA.convertToCelsius();\n",
    "        System.out.println(FA.area + \"지역 화씨\"+FA.fahrenheit +\"도 섭씨\"+celsius+\"도 입니다\"); \n",
    "        System.out.println(FA.wearClothes());\n",
    "    }\n",
    "}\n"
   ]
  },
  {
   "cell_type": "code",
   "execution_count": 19,
   "id": "3c4bc0e2-0013-4560-8c8c-51150d63b5c3",
   "metadata": {},
   "outputs": [],
   "source": [
    "!javac -d classes -sourcepath src src/FahrenheitAreaTest.java"
   ]
  },
  {
   "cell_type": "code",
   "execution_count": 20,
   "id": "9ce1f521-e926-44c8-8da1-08bdfd248407",
   "metadata": {},
   "outputs": [
    {
     "name": "stdout",
     "output_type": "stream",
     "text": [
      "Seoul지역 화씨43.2도 섭씨6.222223도 입니다\n",
      "코트, 울 코트, 가죽 재킷, 플리스, 내복, 니트, 레깅스, 청바지, 두꺼운 바지, 스카프, 기모\n"
     ]
    }
   ],
   "source": [
    "!java -cp classes FahrenheitAreaTest"
   ]
  }
 ],
 "metadata": {
  "kernelspec": {
   "display_name": "Python 3 (ipykernel)",
   "language": "python",
   "name": "python3"
  },
  "language_info": {
   "codemirror_mode": {
    "name": "ipython",
    "version": 3
   },
   "file_extension": ".py",
   "mimetype": "text/x-python",
   "name": "python",
   "nbconvert_exporter": "python",
   "pygments_lexer": "ipython3",
   "version": "3.11.0"
  }
 },
 "nbformat": 4,
 "nbformat_minor": 5
}
