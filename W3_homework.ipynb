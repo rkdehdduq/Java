{
 "cells": [
  {
   "cell_type": "code",
   "execution_count": 5,
   "id": "312b01fc-692a-4ca0-ad3c-8b56752377e5",
   "metadata": {},
   "outputs": [],
   "source": [
    "import os\n",
    "os.getcwd();\n"
   ]
  },
  {
   "cell_type": "code",
   "execution_count": 6,
   "id": "4f0b8fb8-e904-4d1c-9fcc-d7e4e2bbe560",
   "metadata": {},
   "outputs": [
    {
     "name": "stdout",
     "output_type": "stream",
     "text": [
      "Overwriting src/CelsiusTest.java\n"
     ]
    }
   ],
   "source": [
    "%%writefile src/CelsiusTest.java\n",
    "class Fahrenheit { \n",
    "    float fahrenheit = 43.2f;\n",
    "    float convertToCelsius() { \n",
    "        float celsius = ((float)5/9) * (fahrenheit -32); \n",
    "        return celsius;\n",
    "    }\n",
    "}\n",
    "public class CelsiusTest { \n",
    "    public static void main(String[] args){ \n",
    "        Fahrenheit f1 = new Fahrenheit();\n",
    "        float cel = f1.convertToCelsius();\n",
    "        System.out.printf(\"화씨 %.1f도는 섭씨 %.1f도 입니다.\", f1.fahrenheit, cel);\n",
    "    }\n",
    "}"
   ]
  },
  {
   "cell_type": "code",
   "execution_count": 33,
   "id": "65ac33c0-ed40-4f95-a00a-97a42bea387f",
   "metadata": {},
   "outputs": [],
   "source": [
    "!javac -d classes -sourcepath src src/CelsiusTest.java"
   ]
  },
  {
   "cell_type": "code",
   "execution_count": 35,
   "id": "2fe5837b-6a87-45e0-b925-36df85ce4dbe",
   "metadata": {},
   "outputs": [
    {
     "name": "stdout",
     "output_type": "stream",
     "text": [
      "화씨 43.2도는 섭씨 6.2도 입니다.\n"
     ]
    }
   ],
   "source": [
    "!java -cp classes CelsiusTest"
   ]
  }
 ],
 "metadata": {
  "kernelspec": {
   "display_name": "Python 3 (ipykernel)",
   "language": "python",
   "name": "python3"
  },
  "language_info": {
   "codemirror_mode": {
    "name": "ipython",
    "version": 3
   },
   "file_extension": ".py",
   "mimetype": "text/x-python",
   "name": "python",
   "nbconvert_exporter": "python",
   "pygments_lexer": "ipython3",
   "version": "3.11.0"
  }
 },
 "nbformat": 4,
 "nbformat_minor": 5
}
