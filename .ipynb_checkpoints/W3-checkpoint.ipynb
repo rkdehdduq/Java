{
 "cells": [
  {
   "cell_type": "code",
   "execution_count": 2,
   "id": "9239408a-34ae-4356-93d8-85284f0d4899",
   "metadata": {},
   "outputs": [
    {
     "data": {
      "text/plain": [
       "'C:\\\\Users\\\\rkdehdduq12\\\\Code'"
      ]
     },
     "execution_count": 2,
     "metadata": {},
     "output_type": "execute_result"
    }
   ],
   "source": [
    " import os\n",
    "os.getcwd()"
   ]
  },
  {
   "cell_type": "code",
   "execution_count": 6,
   "id": "baad68e5-daab-41af-bb48-fff2ae0f22e0",
   "metadata": {},
   "outputs": [
    {
     "name": "stdout",
     "output_type": "stream",
     "text": [
      "Overwriting src/Hello.java\n"
     ]
    }
   ],
   "source": [
    "%%writefile src/Hello.java\n",
    "class Hello {\n",
    "    void sayHello() {\n",
    "        System.out.println(\"hello\");\n",
    "    }\n",
    "    \n",
    "    public static void main(String[] args) {\n",
    "        Hello h = new Hello(); # 기본 생성자, default constructor\n",
    "        h.sayHello();\n",
    "    }\n",
    "}"
   ]
  },
  {
   "cell_type": "code",
   "execution_count": 9,
   "id": "4a8657ea-5da7-4d79-a564-3fe40d1b9187",
   "metadata": {},
   "outputs": [],
   "source": [
    "!javac -d classes -sourcepath src src/Hello.java"
   ]
  },
  {
   "cell_type": "code",
   "execution_count": 11,
   "id": "3783e1b7-3293-4663-9dc3-a62be6b6d262",
   "metadata": {},
   "outputs": [
    {
     "name": "stdout",
     "output_type": "stream",
     "text": [
      "hello\n"
     ]
    }
   ],
   "source": [
    "!java -cp classes/ Hello"
   ]
  },
  {
   "cell_type": "code",
   "execution_count": 15,
   "id": "4501672b-8b5c-4cfb-944f-6a7a654bde8a",
   "metadata": {},
   "outputs": [
    {
     "name": "stdout",
     "output_type": "stream",
     "text": [
      "Overwriting src/HelloTest2.java\n"
     ]
    }
   ],
   "source": [
    "%%writefile src/HelloTest2.java\n",
    "class Hello { \n",
    "    void sayHello() { \n",
    "        System.out.println(\"hello\");\n",
    "    }\n",
    "} \n",
    "\n",
    "public class HelloTest2 { \n",
    "    public static void main(String[] args) { \n",
    "        Hello h1 = new Hello(); \n",
    "        h1.sayHello();\n",
    "        Hello h2 = new Hello(); \n",
    "        h2.sayHello();\n",
    "    }\n",
    "}\n",
    "        "
   ]
  },
  {
   "cell_type": "code",
   "execution_count": 16,
   "id": "818a1912-6c4f-473e-8e71-910a3c4feff7",
   "metadata": {},
   "outputs": [],
   "source": [
    "!javac -d classes/ -sourcepath src src/HelloTest2.java"
   ]
  },
  {
   "cell_type": "code",
   "execution_count": 17,
   "id": "6449181c-fa3d-4f94-a50f-6be296602cf7",
   "metadata": {},
   "outputs": [
    {
     "name": "stdout",
     "output_type": "stream",
     "text": [
      "hello\n",
      "hello\n"
     ]
    }
   ],
   "source": [
    "!java -cp classes/ HelloTest2"
   ]
  },
  {
   "cell_type": "code",
   "execution_count": 21,
   "id": "7304318c-81a6-4fca-a287-6e1091e134cc",
   "metadata": {},
   "outputs": [
    {
     "ename": "SyntaxError",
     "evalue": "invalid syntax (2573780655.py, line 2)",
     "output_type": "error",
     "traceback": [
      "\u001b[1;36m  Cell \u001b[1;32mIn[21], line 2\u001b[1;36m\u001b[0m\n\u001b[1;33m    public class InitializeTest {\u001b[0m\n\u001b[1;37m           ^\u001b[0m\n\u001b[1;31mSyntaxError\u001b[0m\u001b[1;31m:\u001b[0m invalid syntax\n"
     ]
    }
   ],
   "source": [
    "# InitializeTest.java\n",
    "public class InitializeTest {\n",
    "    public static void main(String[] args) {\n",
    "        String s;\n",
    "        System.out.println(s); // s 출력\n",
    "    }\n",
    "}\n"
   ]
  },
  {
   "cell_type": "code",
   "execution_count": 15,
   "id": "15b5c056-bd86-4c87-abd0-64ba2f50c702",
   "metadata": {},
   "outputs": [
    {
     "ename": "SyntaxError",
     "evalue": "invalid syntax (2681924244.py, line 1)",
     "output_type": "error",
     "traceback": [
      "\u001b[1;36m  Cell \u001b[1;32mIn[15], line 1\u001b[1;36m\u001b[0m\n\u001b[1;33m    public class Hello {\u001b[0m\n\u001b[1;37m           ^\u001b[0m\n\u001b[1;31mSyntaxError\u001b[0m\u001b[1;31m:\u001b[0m invalid syntax\n"
     ]
    }
   ],
   "source": [
    "public class Hello {\n",
    "    String toWhom = \"world\";\n",
    "    void sayHello() {\n",
    "        System.out.println(\"hello \" + toWhom);\n",
    "    }\n",
    "}\n"
   ]
  },
  {
   "cell_type": "code",
   "execution_count": 39,
   "id": "ef9450da-4eec-4d04-ad5f-f8034036dc50",
   "metadata": {},
   "outputs": [
    {
     "name": "stdout",
     "output_type": "stream",
     "text": [
      "Overwriting src/HelloTest.java\n"
     ]
    }
   ],
   "source": [
    "%%writefile src/HelloTest.java \n",
    "class Hello {\n",
    "    String toWhom = \"world\";\n",
    "    Hello() { }\n",
    "    Hello(String whom) { setWhom(whom); }\n",
    "\n",
    "    void setWhom(String whom) { toWhom = whom; }    \n",
    "    void sayHello() {\n",
    "        System.out.println(\"hello \" + toWhom);\n",
    "    }\n",
    "} \n",
    "public class HelloTest  {\n",
    "    public static void main (String[] args) { \n",
    "        Hello h1 = new Hello();\n",
    "        Hello h2 = new Hello(\"홍길동\");\n",
    "        Hello h3 = new Hello(\"허균\");\n",
    "    \n",
    "        Hello[] h_arr= new Hello[3];\n",
    "        h_arr[0] = h1;\n",
    "        h_arr[1] = h2;\n",
    "        h_arr[2] = h3;\n",
    "\n",
    "        for ( int i =0 ; i <3 ; i++ ) {\n",
    "            h_arr[i].sayHello();\n",
    "        }\n",
    "    }\n",
    "} "
   ]
  },
  {
   "cell_type": "code",
   "execution_count": 40,
   "id": "20f1d770-7370-4ee4-9b0f-54f1f951dc67",
   "metadata": {},
   "outputs": [],
   "source": [
    "!javac -d classes -sourcepath src src/HelloTest.java"
   ]
  },
  {
   "cell_type": "code",
   "execution_count": 41,
   "id": "e57e5b6e-91e1-4b10-8f4a-c64f04f9f611",
   "metadata": {},
   "outputs": [
    {
     "name": "stdout",
     "output_type": "stream",
     "text": [
      "hello world\n",
      "hello 홍길동\n",
      "hello 허균\n"
     ]
    }
   ],
   "source": [
    "!java -cp classes HelloTest"
   ]
  }
 ],
 "metadata": {
  "kernelspec": {
   "display_name": "Python 3 (ipykernel)",
   "language": "python",
   "name": "python3"
  },
  "language_info": {
   "codemirror_mode": {
    "name": "ipython",
    "version": 3
   },
   "file_extension": ".py",
   "mimetype": "text/x-python",
   "name": "python",
   "nbconvert_exporter": "python",
   "pygments_lexer": "ipython3",
   "version": "3.11.0"
  }
 },
 "nbformat": 4,
 "nbformat_minor": 5
}
