{
 "cells": [
  {
   "cell_type": "code",
   "execution_count": 1,
   "id": "7cc24e13-f5ce-4a42-a077-a0faf04e5230",
   "metadata": {},
   "outputs": [
    {
     "data": {
      "text/plain": [
       "'C:\\\\Users\\\\rkdehdduq12\\\\Code'"
      ]
     },
     "execution_count": 1,
     "metadata": {},
     "output_type": "execute_result"
    }
   ],
   "source": [
    "import os\n",
    "os.getcwd()"
   ]
  },
  {
   "cell_type": "code",
   "execution_count": 4,
   "id": "107b1a03-8a28-4b68-a2ae-b035a12c898e",
   "metadata": {},
   "outputs": [
    {
     "name": "stdout",
     "output_type": "stream",
     "text": [
      "Writing src/HelloJava.java\n"
     ]
    }
   ],
   "source": [
    "%%writefile src/HelloJava.java\n",
    "\n",
    "class HelloJava {\n",
    "    public static void main(String[] args) {\n",
    "        System.out.println(\"Hello Java\"); \n",
    "    }\n",
    "}"
   ]
  },
  {
   "cell_type": "code",
   "execution_count": 8,
   "id": "82fa5605-b79c-49b6-8899-dba85f634ebc",
   "metadata": {},
   "outputs": [],
   "source": [
    "!javac -d classes/ -sourcepath src src/HelloJava.java"
   ]
  },
  {
   "cell_type": "code",
   "execution_count": 9,
   "id": "4f90f82b-5baf-4e14-bc78-1d475a41745f",
   "metadata": {},
   "outputs": [
    {
     "name": "stdout",
     "output_type": "stream",
     "text": [
      "Hello Java\n"
     ]
    }
   ],
   "source": [
    "!java -cp classes/ HelloJava"
   ]
  }
 ],
 "metadata": {
  "kernelspec": {
   "display_name": "Python 3 (ipykernel)",
   "language": "python",
   "name": "python3"
  },
  "language_info": {
   "codemirror_mode": {
    "name": "ipython",
    "version": 3
   },
   "file_extension": ".py",
   "mimetype": "text/x-python",
   "name": "python",
   "nbconvert_exporter": "python",
   "pygments_lexer": "ipython3",
   "version": "3.11.0"
  }
 },
 "nbformat": 4,
 "nbformat_minor": 5
}
