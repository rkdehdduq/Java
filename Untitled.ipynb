{
 "cells": [
  {
   "cell_type": "code",
   "execution_count": 1,
   "id": "090761f3-f012-4261-b67c-5c40302891a1",
   "metadata": {},
   "outputs": [
    {
     "data": {
      "text/plain": [
       "'C:\\\\Users\\\\rkdehdduq12\\\\Code'"
      ]
     },
     "execution_count": 1,
     "metadata": {},
     "output_type": "execute_result"
    }
   ],
   "source": [
    "import os\n",
    "os.getcwd()"
   ]
  },
  {
   "cell_type": "code",
   "execution_count": 6,
   "id": "3754d164-be6a-404b-9513-bdcffe39f73c",
   "metadata": {},
   "outputs": [
    {
     "name": "stdout",
     "output_type": "stream",
     "text": [
      "Overwriting src/Scanner1.java\n"
     ]
    }
   ],
   "source": [
    "%%writefile src/Scanner1.java\n",
    "// Scanner1.java\n",
    "import java.util.Scanner; \n",
    "\n",
    "class Scanner1 { \n",
    "    public static void main(String[] args){ \n",
    "        Scanner sc = new Scanner(System.in);\n",
    "        String s = sc.next(); \n",
    "        System.out.println(\"출력 문자열 : \" + s);\n",
    "        int num = sc.nextInt();\n",
    "        System.out.println(\"출력 정수 : \" + num);\n",
    "    }\n",
    "}  "
   ]
  },
  {
   "cell_type": "code",
   "execution_count": null,
   "id": "8d8b126a-9550-48da-abbf-28c76a263be6",
   "metadata": {},
   "outputs": [],
   "source": []
  }
 ],
 "metadata": {
  "kernelspec": {
   "display_name": "Python 3 (ipykernel)",
   "language": "python",
   "name": "python3"
  },
  "language_info": {
   "codemirror_mode": {
    "name": "ipython",
    "version": 3
   },
   "file_extension": ".py",
   "mimetype": "text/x-python",
   "name": "python",
   "nbconvert_exporter": "python",
   "pygments_lexer": "ipython3",
   "version": "3.11.0"
  }
 },
 "nbformat": 4,
 "nbformat_minor": 5
}
