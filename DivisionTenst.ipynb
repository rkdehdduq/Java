{
 "cells": [
  {
   "cell_type": "code",
   "execution_count": 1,
   "id": "fb34fa86-64a9-44af-9568-c9a45efefc53",
   "metadata": {},
   "outputs": [
    {
     "data": {
      "text/plain": [
       "'C:\\\\Users\\\\rkdehdduq12\\\\Code'"
      ]
     },
     "execution_count": 1,
     "metadata": {},
     "output_type": "execute_result"
    }
   ],
   "source": [
    "import os\n",
    "os.getcwd()"
   ]
  },
  {
   "cell_type": "code",
   "execution_count": 18,
   "id": "d7ddddbf-c084-42bf-b863-4b23e7f50a4e",
   "metadata": {},
   "outputs": [
    {
     "name": "stdout",
     "output_type": "stream",
     "text": [
      "Overwriting src/DivisionTest.java\n"
     ]
    }
   ],
   "source": [
    "%%writefile src/DivisionTest.java\n",
    "\n",
    "class DivisionTest { \n",
    "    public static void main(String[] args) { \n",
    "        int num1 = 10;\n",
    "        int num2 = 3;\n",
    "        double quotient = (double)num1 /num2 ;\n",
    "\n",
    "        System.out.printf(\"Result : %.3f\\n\", quotient);\n",
    "        int remainder = num1 %num2;\n",
    "        System.out.printf(\"Quotient : %d, Remainder: %d \\n\", (int)quotient, remainder);\n",
    "    }\n",
    "}"
   ]
  },
  {
   "cell_type": "code",
   "execution_count": 19,
   "id": "7ab66b38-e086-4f5a-b136-b61e5dd0f19e",
   "metadata": {},
   "outputs": [],
   "source": [
    "!javac -d classes/ -sourcepath src src/DivisionTest.java"
   ]
  },
  {
   "cell_type": "code",
   "execution_count": 20,
   "id": "6baaea89-cabb-4c26-a72c-a2313d7f4ef9",
   "metadata": {},
   "outputs": [
    {
     "name": "stdout",
     "output_type": "stream",
     "text": [
      "Result : 3.333\n",
      "Quotient : 3, Remainder: 1 \n"
     ]
    }
   ],
   "source": [
    "!java -cp classes DivisionTest"
   ]
  }
 ],
 "metadata": {
  "kernelspec": {
   "display_name": "Python 3 (ipykernel)",
   "language": "python",
   "name": "python3"
  },
  "language_info": {
   "codemirror_mode": {
    "name": "ipython",
    "version": 3
   },
   "file_extension": ".py",
   "mimetype": "text/x-python",
   "name": "python",
   "nbconvert_exporter": "python",
   "pygments_lexer": "ipython3",
   "version": "3.11.0"
  }
 },
 "nbformat": 4,
 "nbformat_minor": 5
}
