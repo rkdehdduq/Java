{
 "cells": [
  {
   "cell_type": "code",
   "execution_count": 8,
   "id": "2acbe466-99fd-453d-a0c9-c0b1c229cdb9",
   "metadata": {},
   "outputs": [
    {
     "data": {
      "text/plain": [
       "'C:\\\\Users\\\\rkdehdduq12\\\\Code'"
      ]
     },
     "execution_count": 8,
     "metadata": {},
     "output_type": "execute_result"
    }
   ],
   "source": [
    "# 현재 작업하고있는 디렉토리 확인\n",
    "import os \n",
    "os.getcwd()"
   ]
  },
  {
   "cell_type": "code",
   "execution_count": 2,
   "id": "b43aa798-250d-4a36-9812-807ffd4d4233",
   "metadata": {},
   "outputs": [
    {
     "name": "stdout",
     "output_type": "stream",
     "text": [
      "Writing src/Hello1.java\n"
     ]
    }
   ],
   "source": [
    "%%writefile src/Hello1.java\n",
    "// Hello.java\n",
    "/* 처음으로 작성하는 자바 코드\n",
    "   화면에 hello world!를 출력함 */\n",
    "class Hello1 { /* Hello 클래스 시작 */\n",
    "    public static void main(String[] args) {\n",
    "        System.out.println(\"hello World!\");\n",
    "    }\n",
    "} // Hello 클래스 끝\n"
   ]
  },
  {
   "cell_type": "code",
   "execution_count": 7,
   "id": "0104c9ee-6aac-4dbd-bb82-b93769e0e4be",
   "metadata": {},
   "outputs": [],
   "source": [
    "!javac -d classes/ -sourcepath src src/Hello1.java"
   ]
  },
  {
   "cell_type": "code",
   "execution_count": 6,
   "id": "3728b4c8-9268-4464-90c1-d9e726ed18c0",
   "metadata": {},
   "outputs": [
    {
     "name": "stdout",
     "output_type": "stream",
     "text": [
      "hello World!\n"
     ]
    }
   ],
   "source": [
    "!java -cp classes/ Hello1"
   ]
  },
  {
   "cell_type": "markdown",
   "id": "77aa0cc2-5d7e-49cf-9f2d-a97e2e150ebd",
   "metadata": {},
   "source": [
    "앞글자 대문자면 걍 클래스임"
   ]
  },
  {
   "cell_type": "markdown",
   "id": "af97d035-6713-40e3-ac14-b4ecfd664d16",
   "metadata": {},
   "source": [
    "클래스는 반드시 객체를 만들어 사용해야함( 그니까 클래스는 범주임 , 좀 더 상세한것이 객체)"
   ]
  },
  {
   "cell_type": "code",
   "execution_count": 1,
   "id": "259e0421-36a6-4cba-aec8-457f1734b053",
   "metadata": {},
   "outputs": [
    {
     "name": "stdout",
     "output_type": "stream",
     "text": [
      "Overwriting src/Scanner1.java\n"
     ]
    }
   ],
   "source": [
    "%%writefile src/Scanner1.java\n",
    "// Scanner1.java\n",
    "import java.util.Scanner; \n",
    "\n",
    "class Scanner1 { \n",
    "    public static void main(String[] args){ \n",
    "        Scanner sc = new Scanner(System.in);\n",
    "        String s = sc.next(); \n",
    "        System.out.println(\"출력 문자열 : \" + s);\n",
    "        int num = sc.nextInt();\n",
    "        System.out.println(\"출력 정수 : \" + num);\n",
    "    }\n",
    "}  "
   ]
  },
  {
   "cell_type": "code",
   "execution_count": 2,
   "id": "5c1ea995-fbac-44a3-8323-1c5fab8b703f",
   "metadata": {},
   "outputs": [],
   "source": [
    "!javac -d classes/ -sourcepath src src/Scanner1.java\n",
    "import java.util.Scanner;\n",
    " \n",
    "class InputBuffer {\n",
    "     public static void main(String[] args) {\n",
    "         Scanner sc = new Scanner(System.in);\n",
    "         String s = sc.next();\n",
    "         System.out.println(\"첫 번째 문자열: \" + s);\n",
    "         int n = sc.nextInt();\n",
    "         System.out.println(\"출력 정수: \" + n);\n",
    "         String s1 = sc.nextLine();\n",
    "         System.out.println(\"나머지 문자열: \" + s1);\n",
    "    }\n",
    "}\n"
   ]
  },
  {
   "cell_type": "code",
   "execution_count": 9,
   "id": "f475865d-ac5a-4998-b01f-d48f25dc5b93",
   "metadata": {},
   "outputs": [
    {
     "name": "stdout",
     "output_type": "stream",
     "text": [
      "Writing src/ReadLine.java\n"
     ]
    }
   ],
   "source": [
    "%%writefile src/ReadLine.java\n",
    "// ReadLine.java\n",
    "import java.util.Scanner;\n",
    "\n",
    "class ReadLine { \n",
    "    public static void main(String[] args) { \n",
    "        Scanner sc = new Scanner(System.in);\n",
    "        String s = sc.nextLine();\n",
    "        System.out.println(\"출력 문자열: \" + s);\n",
    "    }\n",
    "}"
   ]
  },
  {
   "cell_type": "code",
   "execution_count": 10,
   "id": "6b91ac3e-2fb7-40c3-ab30-8ace7cbf8573",
   "metadata": {},
   "outputs": [],
   "source": [
    "!javac -d classes/ -sourcepath src src/ReadLine.java"
   ]
  },
  {
   "cell_type": "code",
   "execution_count": 11,
   "id": "a0e571c2-de84-4c7a-98de-56ef9ec691c7",
   "metadata": {},
   "outputs": [
    {
     "name": "stdout",
     "output_type": "stream",
     "text": [
      "Writing src/InputBuffer.java\n"
     ]
    }
   ],
   "source": [
    "%%writefile src/InputBuffer.java\n",
    "\n",
    "import java.util.Scanner;\n",
    "class InputBuffer {\n",
    "     public static void main(String[] args) {\n",
    "         Scanner sc = new Scanner(System.in);\n",
    "         String s = sc.next();\n",
    "         System.out.println(\"첫 번째 문자열: \" + s);\n",
    "         int n = sc.nextInt();\n",
    "         System.out.println(\"출력 정수: \" + n);\n",
    "         String s1 = sc.nextLine();\n",
    "         System.out.println(\"나머지 문자열: \" + s1);\n",
    "    }\n",
    "}"
   ]
  },
  {
   "cell_type": "code",
   "execution_count": 12,
   "id": "348e5d61-c3bb-4735-a029-a04cdacaf438",
   "metadata": {},
   "outputs": [],
   "source": [
    "!javac -d classes/ -sourcepath src src/InputBuffer.java"
   ]
  },
  {
   "cell_type": "code",
   "execution_count": 2,
   "id": "08ef553a-4114-4be9-8360-2ac6f975562e",
   "metadata": {},
   "outputs": [
    {
     "name": "stdout",
     "output_type": "stream",
     "text": [
      "Overwriting src/ConvertFahrenheit23.java\n"
     ]
    }
   ],
   "source": [
    "%%writefile src/ConvertFahrenheit23.java\n",
    "\n",
    "public class ConvertFahrenheit23 {\n",
    "  public static void main(String[] args) {\n",
    "    float fahrenheit = 23;\n",
    "    float celsius = ((float) 5 / 9) * (fahrenheit - 32);\n",
    "    System.out.printf(\"Fahrenheit %.2f is %.2f in Celsius\\n\", fahrenheit, celsius);\n",
    "  }\n",
    "}\n"
   ]
  },
  {
   "cell_type": "code",
   "execution_count": 14,
   "id": "5d1cb48b-b880-4967-8170-04f5f40ea221",
   "metadata": {},
   "outputs": [],
   "source": [
    "!javac -d classes/ -sourcepath src src/ConvertFahrenheit23.java"
   ]
  },
  {
   "cell_type": "code",
   "execution_count": 21,
   "id": "b54cfd48-3d51-43b6-85fb-57f2b0343c6a",
   "metadata": {},
   "outputs": [
    {
     "name": "stdout",
     "output_type": "stream",
     "text": [
      "Overwriting src/AddTwoNums.java\n"
     ]
    }
   ],
   "source": [
    "%%writefile src/AddTwoNums.java\n",
    "import java.util.Scanner; \n",
    "\n",
    "public class AddTwoNums { \n",
    "    public static void main(String[] args) { \n",
    "        Scanner sc = new Scanner(System.in); \n",
    "        String numStr = sc.next(); \n",
    "        float num1 = Float.parseFloat(numStr);\n",
    "        numStr = sc.next();\n",
    "        float num2 = Float.parseFloat(numStr);\n",
    "        System.out.printf(\"합계: %.1f\\n\",num1 + num2);\n",
    "    }\n",
    "}"
   ]
  },
  {
   "cell_type": "code",
   "execution_count": 22,
   "id": "82de7425-90b9-46c8-a77b-75c972f39ad8",
   "metadata": {},
   "outputs": [],
   "source": [
    "!javac -d classes/ -sourcepath src src/AddTwoNums.java"
   ]
  },
  {
   "cell_type": "code",
   "execution_count": 18,
   "id": "edbc54f6-dbc5-4e1e-8870-1ee10b6936fb",
   "metadata": {},
   "outputs": [
    {
     "name": "stdout",
     "output_type": "stream",
     "text": [
      "Writing src/FahrenheitToCelsius.java\n"
     ]
    }
   ],
   "source": [
    "%%writefile src/FahrenheitToCelsius.java\n",
    "import java.util.Scanner;\n",
    "\n",
    "public class FahrenheitToCelsius {\n",
    "  public static void main(String[] args) {\n",
    "    Scanner sc = new Scanner(System.in);\n",
    "    System.out.println(\"화씨 온도를 입력하세요: \");       \n",
    "    float fahrenheit = sc.nextFloat();       \n",
    "    float celsius = ((float)5 / 9) * (fahrenheit - 32);\n",
    "    System.out.printf(\"화씨 %.1f도는 섭씨 %.1f도 입니다\", fahrenheit, celsius);\n",
    "  }\n",
    "}\n"
   ]
  },
  {
   "cell_type": "code",
   "execution_count": 19,
   "id": "99156cfb-7c6f-42e6-9c22-9a2bf27e7beb",
   "metadata": {
    "jupyter": {
     "source_hidden": true
    }
   },
   "outputs": [],
   "source": [
    "!javac -d classes/ -sourcepath src src/FahrenheitToCelsius.java"
   ]
  },
  {
   "cell_type": "code",
   "execution_count": 2,
   "id": "21dfa15e-06df-4c50-8df6-27f479f4a401",
   "metadata": {},
   "outputs": [
    {
     "name": "stdout",
     "output_type": "stream",
     "text": [
      "Writing src/Array6.java\n"
     ]
    }
   ],
   "source": [
    "%%writefile src/Array6.java\n",
    "public class Array6 {\n",
    "    public static void main(String[] args) {\n",
    "        double arr[] = { 1.1, 2.3, 4.7, 7.5 };\n",
    "        \n",
    "        System.out.printf(\"배열 크기: %d\\n\", \n",
    "                                       arr.length);\n",
    "        System.out.printf(\"arr[0] = %f\\n\", arr[0]);\n",
    "        System.out.printf(\"arr[1] = %f\\n\", arr[1]);\n",
    "        System.out.printf(\"arr[2] = %f\\n\", arr[2]);\n",
    "        System.out.printf(\"arr[3] = %f\\n\", arr[3]);\n",
    "    }\n",
    "}\n"
   ]
  },
  {
   "cell_type": "code",
   "execution_count": 4,
   "id": "09984d69-ff50-4adb-ac39-b527bd687124",
   "metadata": {},
   "outputs": [],
   "source": [
    "!javac -d classes/ -sourcepath src src/Array6.java"
   ]
  }
 ],
 "metadata": {
  "kernelspec": {
   "display_name": "Python 3 (ipykernel)",
   "language": "python",
   "name": "python3"
  },
  "language_info": {
   "codemirror_mode": {
    "name": "ipython",
    "version": 3
   },
   "file_extension": ".py",
   "mimetype": "text/x-python",
   "name": "python",
   "nbconvert_exporter": "python",
   "pygments_lexer": "ipython3",
   "version": "3.11.0"
  }
 },
 "nbformat": 4,
 "nbformat_minor": 5
}
