{
 "cells": [
  {
   "cell_type": "code",
   "execution_count": 1,
   "id": "2acbe466-99fd-453d-a0c9-c0b1c229cdb9",
   "metadata": {},
   "outputs": [
    {
     "data": {
      "text/plain": [
       "'C:\\\\Users\\\\rkdehdduq12\\\\Code'"
      ]
     },
     "execution_count": 1,
     "metadata": {},
     "output_type": "execute_result"
    }
   ],
   "source": [
    "# 현재 작업하고있는 디렉토리 확인\n",
    "import os \n",
    "os.getcwd()"
   ]
  },
  {
   "cell_type": "code",
   "execution_count": 2,
   "id": "b43aa798-250d-4a36-9812-807ffd4d4233",
   "metadata": {},
   "outputs": [
    {
     "name": "stdout",
     "output_type": "stream",
     "text": [
      "Writing src/Hello1.java\n"
     ]
    }
   ],
   "source": [
    "%%writefile src/Hello1.java\n",
    "// Hello.java\n",
    "/* 처음으로 작성하는 자바 코드\n",
    "   화면에 hello world!를 출력함 */\n",
    "class Hello1 { /* Hello 클래스 시작 */\n",
    "    public static void main(String[] args) {\n",
    "        System.out.println(\"hello World!\");\n",
    "    }\n",
    "} // Hello 클래스 끝\n"
   ]
  },
  {
   "cell_type": "code",
   "execution_count": 7,
   "id": "0104c9ee-6aac-4dbd-bb82-b93769e0e4be",
   "metadata": {},
   "outputs": [],
   "source": [
    "!javac -d classes/ -sourcepath src src/Hello1.java"
   ]
  },
  {
   "cell_type": "code",
   "execution_count": 6,
   "id": "3728b4c8-9268-4464-90c1-d9e726ed18c0",
   "metadata": {},
   "outputs": [
    {
     "name": "stdout",
     "output_type": "stream",
     "text": [
      "hello World!\n"
     ]
    }
   ],
   "source": [
    "!java -cp classes/ Hello1"
   ]
  },
  {
   "cell_type": "markdown",
   "id": "77aa0cc2-5d7e-49cf-9f2d-a97e2e150ebd",
   "metadata": {},
   "source": [
    "앞글자 대문자면 걍 클래스임"
   ]
  },
  {
   "cell_type": "markdown",
   "id": "af97d035-6713-40e3-ac14-b4ecfd664d16",
   "metadata": {},
   "source": [
    "클래스는 반드시 객체를 만들어 사용해야함( 그니까 클래스는 범주임 , 좀 더 상세한것이 객체)"
   ]
  },
  {
   "cell_type": "code",
   "execution_count": null,
   "id": "259e0421-36a6-4cba-aec8-457f1734b053",
   "metadata": {},
   "outputs": [],
   "source": []
  },
  {
   "cell_type": "code",
   "execution_count": null,
   "id": "5c1ea995-fbac-44a3-8323-1c5fab8b703f",
   "metadata": {},
   "outputs": [],
   "source": []
  }
 ],
 "metadata": {
  "kernelspec": {
   "display_name": "Python 3 (ipykernel)",
   "language": "python",
   "name": "python3"
  },
  "language_info": {
   "codemirror_mode": {
    "name": "ipython",
    "version": 3
   },
   "file_extension": ".py",
   "mimetype": "text/x-python",
   "name": "python",
   "nbconvert_exporter": "python",
   "pygments_lexer": "ipython3",
   "version": "3.11.0"
  }
 },
 "nbformat": 4,
 "nbformat_minor": 5
}
